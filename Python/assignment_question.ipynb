{
 "cells": [
  {
   "cell_type": "markdown",
   "metadata": {},
   "source": [
    "# Lesson 1.2: Python Basics\n",
    "## Topics Covered:\n",
    "- Syntax and Semantics\n",
    "- Variables and Data Types\n",
    "- Basic Operators (Arithmetic, Comparison, Logical)\n"
   ]
  },
  {
   "cell_type": "markdown",
   "metadata": {},
   "source": [
    "## 1. Syntax and Semantics\n",
    "\n",
    "**Question 1:** Write a Python program to print \"Hello, World!\"."
   ]
  },
  {
   "cell_type": "code",
   "execution_count": 1,
   "metadata": {},
   "outputs": [
    {
     "name": "stdout",
     "output_type": "stream",
     "text": [
      "Hello, Wlorld\n"
     ]
    }
   ],
   "source": [
    "print(\"Hello, Wlorld\")"
   ]
  },
  {
   "cell_type": "markdown",
   "metadata": {},
   "source": [
    "**Question 2:** Write a Python program that takes a user input and prints it."
   ]
  },
  {
   "cell_type": "code",
   "execution_count": 199,
   "metadata": {},
   "outputs": [
    {
     "name": "stdout",
     "output_type": "stream",
     "text": [
      "Enter something : NAVIN KUMAR SINGH\n",
      "You entered :  NAVIN KUMAR SINGH\n"
     ]
    }
   ],
   "source": [
    "user=input('Enter something : ')\n",
    "print('You entered : ', user)"
   ]
  },
  {
   "cell_type": "markdown",
   "metadata": {},
   "source": [
    "**Question 3:** Write a Python program to check if a number is positive, negative, or zero."
   ]
  },
  {
   "cell_type": "code",
   "execution_count": 200,
   "metadata": {},
   "outputs": [
    {
     "name": "stdout",
     "output_type": "stream",
     "text": [
      "Number : 0\n",
      "Zero Number\n",
      "Number : -8\n",
      "Negative Number \n",
      "Number : 10\n",
      "Positive Number\n"
     ]
    }
   ],
   "source": [
    "for i in range(3):\n",
    "    num=float(input('Number : '))\n",
    "    if num ==0:\n",
    "        print('Zero Number')\n",
    "    elif num < 0:\n",
    "        print('Negative Number ')\n",
    "    else :\n",
    "        print('Positive Number')"
   ]
  },
  {
   "cell_type": "markdown",
   "metadata": {},
   "source": [
    "**Question 4:** Write a Python program to find the largest of three numbers."
   ]
  },
  {
   "cell_type": "code",
   "execution_count": 203,
   "metadata": {},
   "outputs": [
    {
     "name": "stdout",
     "output_type": "stream",
     "text": [
      "Enter first number 45\n",
      "Enter second number 98\n",
      "Enter third number 102\n",
      "Largest number is :  102.0\n"
     ]
    }
   ],
   "source": [
    "num1=float(input('Enter first number '))\n",
    "num2=float(input('Enter second number '))\n",
    "num3=float(input('Enter third number '))\n",
    "\n",
    "if (num1>=num2) and (num1>=num3):\n",
    "    largest=num1\n",
    "elif (num2>=num1) and (num2>=num3):\n",
    "    largest=num2\n",
    "else:\n",
    "    largest=num3\n",
    "    \n",
    "\n",
    "print('Largest number is : ', largest)"
   ]
  },
  {
   "cell_type": "code",
   "execution_count": 16,
   "metadata": {},
   "outputs": [
    {
     "name": "stdout",
     "output_type": "stream",
     "text": [
      "maximum number of this list  100\n"
     ]
    }
   ],
   "source": [
    "num=[15,52,62,62,71,25,92,10,100,42]\n",
    "print('maximum number of this list ',max(num))"
   ]
  },
  {
   "cell_type": "markdown",
   "metadata": {},
   "source": [
    "**Question 5:** Write a Python program to calculate the factorial of a number."
   ]
  },
  {
   "cell_type": "code",
   "execution_count": 206,
   "metadata": {},
   "outputs": [
    {
     "name": "stdout",
     "output_type": "stream",
     "text": [
      "Factorial of : 5\n",
      "Factorial of 5 is 120\n"
     ]
    }
   ],
   "source": [
    "num=int(input('Factorial of : '))\n",
    "fact=1\n",
    "for i in range (1,num+1):\n",
    "    fact *=i\n",
    "print(f\"Factorial of {num} is {fact}\")"
   ]
  },
  {
   "cell_type": "markdown",
   "metadata": {},
   "source": [
    "## 2. Variables and Data Types\n",
    "\n",
    "**Question 6:** Create variables of different data types: integer, float, string, and boolean. Print their values and types."
   ]
  },
  {
   "cell_type": "code",
   "execution_count": 208,
   "metadata": {},
   "outputs": [
    {
     "name": "stdout",
     "output_type": "stream",
     "text": [
      "1st Number : 45\n",
      "2nd Number : 25\n",
      "Input any string NAVIN SINGH\n",
      "addition of 45.0 and 25.0 is :  70.0 <class 'float'>\n",
      "subtraction of 45.0 and 25.0 is :  20.0 <class 'float'>\n",
      "multiplication of 45.0 and 25.0 is :  1125.0 <class 'float'>\n",
      "devision of 45.0 and 25.0 is :  1.8 <class 'float'>\n",
      "floor_devision of 45.0 and 25.0 is :  1.0 <class 'float'>\n",
      "modulus of 45.0 and 25.0 is :  20.0 <class 'float'>\n",
      "boolien of 45.0 and 25.0 is :  True <class 'bool'>\n",
      "string of NAVIN SINGH is :  NAVIN SINGH <class 'str'>\n"
     ]
    }
   ],
   "source": [
    "num1=float(input('1st Number : '))\n",
    "num2=float(input('2nd Number : '))\n",
    "int3=str(input('Input any string '))\n",
    "\n",
    "addition=num1+num2\n",
    "subtraction=num1-num2\n",
    "multiplication=num1*num2\n",
    "devision=num1/num2\n",
    "floor_devision=num1//num2\n",
    "modulus=num1%num2\n",
    "boolien=True\n",
    "\n",
    "\n",
    "print(f\"addition of {num1} and {num2} is :  {addition} {type(addition)}\")\n",
    "print(f\"subtraction of {num1} and {num2} is :  {subtraction} {type(subtraction)}\")\n",
    "print(f\"multiplication of {num1} and {num2} is :  {multiplication} {type(multiplication)}\")\n",
    "print(f\"devision of {num1} and {num2} is :  {devision} {type(devision)}\")\n",
    "print(f\"floor_devision of {num1} and {num2} is :  {floor_devision} {type(floor_devision)}\")\n",
    "print(f\"modulus of {num1} and {num2} is :  {modulus} {type(modulus)}\")\n",
    "print(f\"boolien of {num1} and {num2} is :  {boolien} {type(boolien)}\")\n",
    "print(f\"string of {int3} is :  {int3} {type(int3)}\")"
   ]
  },
  {
   "cell_type": "markdown",
   "metadata": {},
   "source": [
    "**Question 7:** Write a Python program to swap the values of two variables."
   ]
  },
  {
   "cell_type": "code",
   "execution_count": 8,
   "metadata": {},
   "outputs": [
    {
     "name": "stdout",
     "output_type": "stream",
     "text": [
      "Number a : 100\n",
      "Number b : 200\n",
      "after swaping : a = 200, b= 100\n"
     ]
    }
   ],
   "source": [
    "# Input values\n",
    "a=int(input('Number a : '))\n",
    "b=int(input('Number b : '))\n",
    "\n",
    "c=a\n",
    "a=b\n",
    "b=c\n",
    "print(f\"after swaping : a = {a}, b= {b}\")"
   ]
  },
  {
   "cell_type": "markdown",
   "metadata": {},
   "source": [
    "**Question 8:** Write a Python program to convert Celsius to Fahrenheit."
   ]
  },
  {
   "cell_type": "code",
   "execution_count": 17,
   "metadata": {},
   "outputs": [
    {
     "name": "stdout",
     "output_type": "stream",
     "text": [
      "Enter Celsious values : 1\n",
      "Converted Fahrenheig : 33.8\n",
      "Enter Celsious values : 37\n",
      "Converted Fahrenheig : 98.6\n",
      "Enter Celsious values : 100\n",
      "Converted Fahrenheig : 212.0\n"
     ]
    }
   ],
   "source": [
    "for i in range (3):\n",
    "    # Input values\n",
    "    celsius=float(input('Enter Celsious values : '))\n",
    "    # Formula of convert Celsius to Fahrenheit\n",
    "    far=(celsius*9/5)+32\n",
    "    print(f\"Converted Fahrenheig : {far} .F\")"
   ]
  },
  {
   "cell_type": "markdown",
   "metadata": {},
   "source": [
    "**Question 9:** Write a Python program to concatenate two strings."
   ]
  },
  {
   "cell_type": "code",
   "execution_count": 22,
   "metadata": {},
   "outputs": [
    {
     "name": "stdout",
     "output_type": "stream",
     "text": [
      "first name : NAVIN \n",
      "Second Name : SINGN\n",
      "Full Nmae : NAVIN SINGN\n"
     ]
    }
   ],
   "source": [
    "# Input first name and second name\n",
    "a=str(input('first name : '))\n",
    "b=str(input('Second Name : '))\n",
    "# full name\n",
    "name=print(f\"Full Nmae : {a}{b}\")"
   ]
  },
  {
   "cell_type": "code",
   "execution_count": 209,
   "metadata": {},
   "outputs": [
    {
     "name": "stdout",
     "output_type": "stream",
     "text": [
      "first name : NAVIN\n",
      "Second Name : SINGH\n",
      "Full name :  NAVIN SINGH\n"
     ]
    }
   ],
   "source": [
    "# Input first name and second name\n",
    "a=str(input('first name : '))\n",
    "b=str(input('Second Name : '))\n",
    "\n",
    "name=a + \" \" + b\n",
    "print('Full name : ',name)"
   ]
  },
  {
   "cell_type": "markdown",
   "metadata": {},
   "source": [
    "**Question 10:** Write a Python program to check if a variable is of a specific data type."
   ]
  },
  {
   "cell_type": "code",
   "execution_count": 210,
   "metadata": {},
   "outputs": [
    {
     "name": "stdout",
     "output_type": "stream",
     "text": [
      "Enter values : NAVIN\n",
      "True\n"
     ]
    },
    {
     "data": {
      "text/plain": [
       "str"
      ]
     },
     "execution_count": 210,
     "metadata": {},
     "output_type": "execute_result"
    }
   ],
   "source": [
    "var=input('Enter values : ')\n",
    "if isinstance(var,str):\n",
    "    print('True')\n",
    "else:\n",
    "    print('False')\n",
    "type(var)"
   ]
  },
  {
   "cell_type": "code",
   "execution_count": 106,
   "metadata": {},
   "outputs": [
    {
     "name": "stdout",
     "output_type": "stream",
     "text": [
      "Enter values : navin\n",
      "This is String values \n"
     ]
    }
   ],
   "source": [
    "var=input('Enter values : ')\n",
    "if type(var)==str:\n",
    "    print('This is String values ')\n",
    "else:\n",
    "    print('Wrong entyr, please enter String values')"
   ]
  },
  {
   "cell_type": "code",
   "execution_count": 103,
   "metadata": {},
   "outputs": [
    {
     "name": "stdout",
     "output_type": "stream",
     "text": [
      "Enter a value: 45\n",
      "TRUE : The variable is an Integer.\n",
      "Enter a value: NAVIN\n",
      "FALSE : The Variable is not an Integer\n",
      "Enter a value: 420.5\n",
      "FALSE : The Variable is not an Integer\n"
     ]
    }
   ],
   "source": [
    "for i in range(3):\n",
    "    var = input(\"Enter a value: \")\n",
    "    try:\n",
    "        var=int(var)\n",
    "    except ValueError:\n",
    "        pass\n",
    "    if isinstance(var,int):\n",
    "        print('TRUE : The variable is an Integer.')\n",
    "    else:\n",
    "        print('FALSE : The Variable is not an Integer')"
   ]
  },
  {
   "cell_type": "markdown",
   "metadata": {},
   "source": [
    "## 3. Basic Operators (Arithmetic, Comparison, Logical)\n",
    "\n",
    "**Question 11:** Write a Python program to perform arithmetic operations: addition, subtraction, multiplication, and division."
   ]
  },
  {
   "cell_type": "code",
   "execution_count": null,
   "metadata": {},
   "outputs": [],
   "source": []
  },
  {
   "cell_type": "code",
   "execution_count": 109,
   "metadata": {},
   "outputs": [
    {
     "name": "stdout",
     "output_type": "stream",
     "text": [
      "1st Number : 55\n",
      "2nd Number : 45\n",
      "addition of 55.0 and 45.0 is :  100.0\n",
      "subtraction of 55.0 and 45.0 is :  10.0\n",
      "multiplication of 55.0 and 45.0 is :  2475.0\n",
      "devision of 55.0 and 45.0 is :  1.2222222222222223\n",
      "floor_devision of 55.0 and 45.0 is :  1.0\n",
      "modulus of 55.0 and 45.0 is :  10.0\n",
      "boolien of 55.0 and 45.0 is :  True\n"
     ]
    }
   ],
   "source": [
    "num1=float(input('1st Number : '))\n",
    "num2=float(input('2nd Number : '))\n",
    "\n",
    "addition=num1+num2\n",
    "subtraction=num1-num2\n",
    "multiplication=num1*num2\n",
    "devision=num1/num2\n",
    "floor_devision=num1//num2\n",
    "modulus=num1%num2\n",
    "boolien=True\n",
    "\n",
    "\n",
    "print(f\"addition of {num1} and {num2} is :  {addition}\")\n",
    "print(f\"subtraction of {num1} and {num2} is :  {subtraction}\")\n",
    "print(f\"multiplication of {num1} and {num2} is :  {multiplication}\")\n",
    "print(f\"devision of {num1} and {num2} is :  {devision}\")\n",
    "print(f\"floor_devision of {num1} and {num2} is :  {floor_devision}\")\n",
    "print(f\"modulus of {num1} and {num2} is :  {modulus}\")\n",
    "print(f\"boolien of {num1} and {num2} is :  {boolien}\")"
   ]
  },
  {
   "cell_type": "markdown",
   "metadata": {},
   "source": [
    "**Question 12:** Write a Python program to demonstrate comparison operators: equal to, not equal to, greater than, less than."
   ]
  },
  {
   "cell_type": "code",
   "execution_count": 113,
   "metadata": {},
   "outputs": [
    {
     "name": "stdout",
     "output_type": "stream",
     "text": [
      "1st Number : 15\n",
      "2nd Number : 25\n",
      "Both are not equal number\n"
     ]
    }
   ],
   "source": [
    "num1=float(input('1st Number : '))\n",
    "num2=float(input('2nd Number : '))\n",
    "if num1>num2:\n",
    "    print(f\"{num1} is grater then {num2}\")\n",
    "elif num1==num2:\n",
    "    print('Both are equal number')\n",
    "elif num1!=num2:\n",
    "    print('Both are not equal number')\n",
    "elif num1<num2:\n",
    "    print(f\"{num1} is less then {num2}\")\n",
    "else :\n",
    "    print('Wrong Entry')"
   ]
  },
  {
   "cell_type": "markdown",
   "metadata": {},
   "source": [
    "**Question 13:** Write a Python program to demonstrate logical operators: and, or, not."
   ]
  },
  {
   "cell_type": "code",
   "execution_count": 211,
   "metadata": {},
   "outputs": [
    {
     "name": "stdout",
     "output_type": "stream",
     "text": [
      "True and False: False\n",
      "True or False: True\n",
      "not True: False\n"
     ]
    }
   ],
   "source": [
    "a = True\n",
    "b = False\n",
    "\n",
    "print(f\"True and False: {a and b}\")\n",
    "print(f\"True or False: {a or b}\")\n",
    "print(f\"not True: {not a}\")"
   ]
  },
  {
   "cell_type": "code",
   "execution_count": 117,
   "metadata": {},
   "outputs": [
    {
     "name": "stdout",
     "output_type": "stream",
     "text": [
      "Kumar\n"
     ]
    }
   ],
   "source": [
    "a='Navin'\n",
    "b='Kumar'\n",
    "c='Singh'\n",
    "print(a and b)"
   ]
  },
  {
   "cell_type": "code",
   "execution_count": 129,
   "metadata": {},
   "outputs": [
    {
     "name": "stdout",
     "output_type": "stream",
     "text": [
      "True\n",
      "True\n",
      "False False\n"
     ]
    }
   ],
   "source": [
    "a=10\n",
    "b=20\n",
    "c=30\n",
    "print(a < b and b < c)\n",
    "print(a > b or b < c)\n",
    "print(a > b not b < c)"
   ]
  },
  {
   "cell_type": "markdown",
   "metadata": {},
   "source": [
    "**Question 14:** Write a Python program to calculate the square of a number."
   ]
  },
  {
   "cell_type": "code",
   "execution_count": 136,
   "metadata": {},
   "outputs": [
    {
     "name": "stdout",
     "output_type": "stream",
     "text": [
      "Number : 10\n",
      "Square of 10.0 : 100.0\n",
      "Number : 15.6\n",
      "Square of 15.6 : 243.35999999999999\n",
      "Number : 9\n",
      "Square of 9.0 : 81.0\n",
      "Number : 5\n",
      "Square of 5.0 : 25.0\n",
      "Number : 6.89\n",
      "Square of 6.89 : 47.4721\n"
     ]
    }
   ],
   "source": [
    "def square():\n",
    "    for i in range(5):\n",
    "        num=float(input('Number : '))\n",
    "        square=num**2\n",
    "        print(f\"Square of {num} : {square}\")\n",
    "square()"
   ]
  },
  {
   "cell_type": "markdown",
   "metadata": {},
   "source": [
    "**Question 15:** Write a Python program to check if a number is even or odd."
   ]
  },
  {
   "cell_type": "code",
   "execution_count": 141,
   "metadata": {},
   "outputs": [
    {
     "name": "stdout",
     "output_type": "stream",
     "text": [
      "Number : 10\n",
      "10 : Even Number\n",
      "Number : 99\n",
      "99 : Odd Number \n"
     ]
    }
   ],
   "source": [
    "for i in range(2):\n",
    "    num=int(input('Number : '))\n",
    "    if num%2==1:\n",
    "        print(f\"{num} : Odd Number \")\n",
    "    else:\n",
    "        print(f\"{num} : Even Number\")"
   ]
  },
  {
   "cell_type": "markdown",
   "metadata": {},
   "source": [
    "**Question 16:** Write a Python program to find the sum of the first n natural numbers."
   ]
  },
  {
   "cell_type": "code",
   "execution_count": 170,
   "metadata": {},
   "outputs": [
    {
     "name": "stdout",
     "output_type": "stream",
     "text": [
      "Enter a number 100\n",
      "5050\n"
     ]
    }
   ],
   "source": [
    "num=int(input('Enter a number '))\n",
    "a=0\n",
    "if num>0:\n",
    "    while num>0:\n",
    "        a+=num\n",
    "        num-=1\n",
    "    print(a)\n",
    "    \n",
    "else : \n",
    "    print('No is negative')"
   ]
  },
  {
   "cell_type": "code",
   "execution_count": 169,
   "metadata": {},
   "outputs": [
    {
     "name": "stdout",
     "output_type": "stream",
     "text": [
      "Enter number 100\n",
      "sum of 1 to 100 : 5050 \n"
     ]
    }
   ],
   "source": [
    "num=int(input('Enter number '))\n",
    "addition=(num*(num+1))//2\n",
    "print(f\"sum of 1 to {num} : {addition} \")"
   ]
  },
  {
   "cell_type": "markdown",
   "metadata": {},
   "source": [
    "**Question 17:** Write a Python program to check if a year is a leap year."
   ]
  },
  {
   "cell_type": "code",
   "execution_count": 213,
   "metadata": {},
   "outputs": [
    {
     "name": "stdout",
     "output_type": "stream",
     "text": [
      "Enter Year : 2024\n",
      "2024 is leap year\n"
     ]
    }
   ],
   "source": [
    "year=int(input('Enter Year : '))\n",
    "if year%4==0:\n",
    "    print(year, \"is leap year\")\n",
    "else : \n",
    "    print(f\"{year } is not leap year\")"
   ]
  },
  {
   "cell_type": "markdown",
   "metadata": {},
   "source": [
    "**Question 18:** Write a Python program to reverse a string."
   ]
  },
  {
   "cell_type": "code",
   "execution_count": 180,
   "metadata": {},
   "outputs": [
    {
     "name": "stdout",
     "output_type": "stream",
     "text": [
      "HGNIS RAMUK NIVAN\n"
     ]
    }
   ],
   "source": [
    "n='NAVIN KUMAR SINGH'\n",
    "a=''\n",
    "for char in n:\n",
    "    a = char+a\n",
    "print(a)"
   ]
  },
  {
   "cell_type": "markdown",
   "metadata": {},
   "source": [
    "**Question 19:** Write a Python program to check if a string is a palindrome."
   ]
  },
  {
   "cell_type": "code",
   "execution_count": 183,
   "metadata": {},
   "outputs": [
    {
     "name": "stdout",
     "output_type": "stream",
     "text": [
      "Racecar is palindrome\n"
     ]
    }
   ],
   "source": [
    "a ='Racecar'\n",
    "b=''\n",
    "for char in a:\n",
    "    b = char+b\n",
    "if a.lower()==b.lower():\n",
    "    print(a, 'is palindrome')\n",
    "else:\n",
    "    print(a, 'is not a palindrome')"
   ]
  },
  {
   "cell_type": "markdown",
   "metadata": {},
   "source": [
    "**Question 20:** Write a Python program to sort a list of numbers in ascending order."
   ]
  },
  {
   "cell_type": "code",
   "execution_count": 184,
   "metadata": {},
   "outputs": [
    {
     "name": "stdout",
     "output_type": "stream",
     "text": [
      "[-19, 3, 3, 5, 78]\n"
     ]
    }
   ],
   "source": [
    "a =[3, 5, 3, -19, 78]\n",
    "b=sorted(a)\n",
    "print(b)"
   ]
  },
  {
   "cell_type": "markdown",
   "metadata": {},
   "source": [
    "**Question 21:** Write a Python program to sort a list of numbers in decending order."
   ]
  },
  {
   "cell_type": "code",
   "execution_count": 198,
   "metadata": {},
   "outputs": [
    {
     "name": "stdout",
     "output_type": "stream",
     "text": [
      "[78, 5, 3, 3, -19]\n"
     ]
    }
   ],
   "source": [
    "a =[3, 5, 3, -19, 78]\n",
    "b=sorted(a,reverse=True)\n",
    "print(b)"
   ]
  },
  {
   "cell_type": "code",
   "execution_count": null,
   "metadata": {},
   "outputs": [],
   "source": []
  }
 ],
 "metadata": {
  "kernelspec": {
   "display_name": "Python 3 (ipykernel)",
   "language": "python",
   "name": "python3"
  },
  "language_info": {
   "codemirror_mode": {
    "name": "ipython",
    "version": 3
   },
   "file_extension": ".py",
   "mimetype": "text/x-python",
   "name": "python",
   "nbconvert_exporter": "python",
   "pygments_lexer": "ipython3",
   "version": "3.10.12"
  }
 },
 "nbformat": 4,
 "nbformat_minor": 4
}
